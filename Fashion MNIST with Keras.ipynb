{
 "cells": [
  {
   "cell_type": "code",
   "execution_count": 40,
   "metadata": {},
   "outputs": [],
   "source": [
    "from __future__ import print_function\n",
    "import keras \n",
    "from keras.datasets import fashion_mnist\n",
    "from keras.models import Sequential\n",
    "from keras.layers import Dense,Dropout,Flatten\n",
    "from keras.layers import Conv2D,MaxPooling2D\n",
    "from keras import backend as k"
   ]
  },
  {
   "cell_type": "code",
   "execution_count": 41,
   "metadata": {},
   "outputs": [],
   "source": [
    "import os \n",
    "os.environ['IF_CPP_MIN_LOG_LEVEL']='2'"
   ]
  },
  {
   "cell_type": "code",
   "execution_count": 42,
   "metadata": {},
   "outputs": [],
   "source": [
    "num_classes = 10"
   ]
  },
  {
   "cell_type": "code",
   "execution_count": 43,
   "metadata": {},
   "outputs": [],
   "source": [
    "batch_size = 128\n",
    "epochs = 24"
   ]
  },
  {
   "cell_type": "code",
   "execution_count": 44,
   "metadata": {},
   "outputs": [],
   "source": [
    "img_rows,img_cols = 28,28"
   ]
  },
  {
   "cell_type": "code",
   "execution_count": 45,
   "metadata": {},
   "outputs": [],
   "source": [
    "(x_train,y_train),(x_test,y_test) = fashion_mnist.load_data()"
   ]
  },
  {
   "cell_type": "code",
   "execution_count": 46,
   "metadata": {},
   "outputs": [],
   "source": [
    "if k.image_data_format() == 'channels_first':\n",
    "    \n",
    "    x_train = x.train.reshape(x_train.shape[0],1,img_rows,img_cols)\n",
    "    \n",
    "    x_test = x_test.reshape(x_test.shape[0],1,img_rows,img_cols)\n",
    "    \n",
    "    input_shape = (1,img_rows,img_cols)\n",
    "    \n",
    "else :\n",
    "    \n",
    "        x_train = x_train.reshape(x_train.shape[0],img_rows,img_cols,1)\n",
    "    \n",
    "        x_test = x_test.reshape(x_test.shape[0],img_rows,img_cols,1)\n",
    "    \n",
    "        input_shape = (img_rows,img_cols,1)"
   ]
  },
  {
   "cell_type": "code",
   "execution_count": null,
   "metadata": {},
   "outputs": [],
   "source": []
  },
  {
   "cell_type": "code",
   "execution_count": 47,
   "metadata": {},
   "outputs": [],
   "source": [
    "x_train = x_train.astype('float32')\n",
    "\n",
    "x_test = x_test.astype('float32')\n",
    "\n",
    "x_train/= 255\n",
    "\n",
    "x_test/= 255"
   ]
  },
  {
   "cell_type": "code",
   "execution_count": 48,
   "metadata": {},
   "outputs": [],
   "source": [
    "y_train = keras.utils.to_categorical(y_train,num_classes)\n",
    "\n",
    "y_test = keras.utils.to_categorical(y_test,num_classes)"
   ]
  },
  {
   "cell_type": "code",
   "execution_count": 49,
   "metadata": {},
   "outputs": [],
   "source": [
    "model = Sequential()"
   ]
  },
  {
   "cell_type": "code",
   "execution_count": 50,
   "metadata": {},
   "outputs": [],
   "source": [
    " model.add(Conv2D(32,kernel_size=(3,3),activation='relu',input_shape=input_shape))"
   ]
  },
  {
   "cell_type": "code",
   "execution_count": 12,
   "metadata": {},
   "outputs": [],
   "source": [
    "# model.add(MaxPooling2D(pool_size=(2,2)))"
   ]
  },
  {
   "cell_type": "code",
   "execution_count": 51,
   "metadata": {},
   "outputs": [],
   "source": [
    " model.add(Conv2D(64,kernel_size=(3,3),activation='relu'))"
   ]
  },
  {
   "cell_type": "code",
   "execution_count": 52,
   "metadata": {},
   "outputs": [],
   "source": [
    "model.add(Flatten())"
   ]
  },
  {
   "cell_type": "code",
   "execution_count": 53,
   "metadata": {},
   "outputs": [],
   "source": [
    "model.add(Dense(128,activation='relu'))"
   ]
  },
  {
   "cell_type": "code",
   "execution_count": 54,
   "metadata": {},
   "outputs": [],
   "source": [
    "model.add(Dropout(0.5))"
   ]
  },
  {
   "cell_type": "code",
   "execution_count": 55,
   "metadata": {},
   "outputs": [],
   "source": [
    "model.add(Dense(num_classes,activation='softmax'))"
   ]
  },
  {
   "cell_type": "code",
   "execution_count": 56,
   "metadata": {},
   "outputs": [],
   "source": [
    "model.compile(loss=keras.losses.categorical_crossentropy,optimizer=keras.optimizers.Adadelta(),metrics=['accuracy'])"
   ]
  },
  {
   "cell_type": "code",
   "execution_count": null,
   "metadata": {},
   "outputs": [],
   "source": []
  },
  {
   "cell_type": "code",
   "execution_count": null,
   "metadata": {},
   "outputs": [],
   "source": []
  },
  {
   "cell_type": "code",
   "execution_count": null,
   "metadata": {},
   "outputs": [],
   "source": []
  },
  {
   "cell_type": "code",
   "execution_count": 57,
   "metadata": {},
   "outputs": [
    {
     "name": "stdout",
     "output_type": "stream",
     "text": [
      "Train on 60000 samples, validate on 10000 samples\n",
      "Epoch 1/24\n",
      "60000/60000 [==============================] - 248s 4ms/step - loss: 0.5974 - acc: 0.7904 - val_loss: 0.3840 - val_acc: 0.8635\n",
      "Epoch 2/24\n",
      "60000/60000 [==============================] - 250s 4ms/step - loss: 0.3833 - acc: 0.8650 - val_loss: 0.3517 - val_acc: 0.8712\n",
      "Epoch 3/24\n",
      "60000/60000 [==============================] - 244s 4ms/step - loss: 0.3243 - acc: 0.8827 - val_loss: 0.2933 - val_acc: 0.8921\n",
      "Epoch 4/24\n",
      "60000/60000 [==============================] - 241s 4ms/step - loss: 0.2850 - acc: 0.8976 - val_loss: 0.2746 - val_acc: 0.9009\n",
      "Epoch 5/24\n",
      "60000/60000 [==============================] - 240s 4ms/step - loss: 0.2540 - acc: 0.9076 - val_loss: 0.2721 - val_acc: 0.8970\n",
      "Epoch 6/24\n",
      "60000/60000 [==============================] - 240s 4ms/step - loss: 0.2312 - acc: 0.9157 - val_loss: 0.2472 - val_acc: 0.9120\n",
      "Epoch 7/24\n",
      "60000/60000 [==============================] - 249s 4ms/step - loss: 0.2111 - acc: 0.9235 - val_loss: 0.2416 - val_acc: 0.9154\n",
      "Epoch 8/24\n",
      "60000/60000 [==============================] - 255s 4ms/step - loss: 0.1923 - acc: 0.9303 - val_loss: 0.2386 - val_acc: 0.9144\n",
      "Epoch 9/24\n",
      "60000/60000 [==============================] - 258s 4ms/step - loss: 0.1730 - acc: 0.9378 - val_loss: 0.2310 - val_acc: 0.9199\n",
      "Epoch 10/24\n",
      "60000/60000 [==============================] - 209s 3ms/step - loss: 0.1573 - acc: 0.9428 - val_loss: 0.2564 - val_acc: 0.9168\n",
      "Epoch 11/24\n",
      "60000/60000 [==============================] - 190s 3ms/step - loss: 0.1456 - acc: 0.9474 - val_loss: 0.2438 - val_acc: 0.9199\n",
      "Epoch 12/24\n",
      "60000/60000 [==============================] - 190s 3ms/step - loss: 0.1312 - acc: 0.9524 - val_loss: 0.2427 - val_acc: 0.9213\n",
      "Epoch 13/24\n",
      "60000/60000 [==============================] - 187s 3ms/step - loss: 0.1206 - acc: 0.9566 - val_loss: 0.2477 - val_acc: 0.9206\n",
      "Epoch 14/24\n",
      "60000/60000 [==============================] - 188s 3ms/step - loss: 0.1120 - acc: 0.9597 - val_loss: 0.2560 - val_acc: 0.9212\n",
      "Epoch 15/24\n",
      "60000/60000 [==============================] - 192s 3ms/step - loss: 0.0997 - acc: 0.9638 - val_loss: 0.2723 - val_acc: 0.9193\n",
      "Epoch 16/24\n",
      "60000/60000 [==============================] - 193s 3ms/step - loss: 0.0941 - acc: 0.9660 - val_loss: 0.2831 - val_acc: 0.9229\n",
      "Epoch 17/24\n",
      "60000/60000 [==============================] - 195s 3ms/step - loss: 0.0874 - acc: 0.9684 - val_loss: 0.2805 - val_acc: 0.9232\n",
      "Epoch 18/24\n",
      "60000/60000 [==============================] - 187s 3ms/step - loss: 0.0824 - acc: 0.9700 - val_loss: 0.2875 - val_acc: 0.9191\n",
      "Epoch 19/24\n",
      "60000/60000 [==============================] - 189s 3ms/step - loss: 0.0744 - acc: 0.9732 - val_loss: 0.3094 - val_acc: 0.9202\n",
      "Epoch 20/24\n",
      "60000/60000 [==============================] - 188s 3ms/step - loss: 0.0710 - acc: 0.9739 - val_loss: 0.3146 - val_acc: 0.9213\n",
      "Epoch 21/24\n",
      "60000/60000 [==============================] - 188s 3ms/step - loss: 0.0643 - acc: 0.9770 - val_loss: 0.2914 - val_acc: 0.9252\n",
      "Epoch 22/24\n",
      "60000/60000 [==============================] - 234s 4ms/step - loss: 0.0609 - acc: 0.9779 - val_loss: 0.3129 - val_acc: 0.9236\n",
      "Epoch 23/24\n",
      "60000/60000 [==============================] - 249s 4ms/step - loss: 0.0589 - acc: 0.9788 - val_loss: 0.3297 - val_acc: 0.9209\n",
      "Epoch 24/24\n",
      "60000/60000 [==============================] - 249s 4ms/step - loss: 0.0540 - acc: 0.9809 - val_loss: 0.3072 - val_acc: 0.9222\n"
     ]
    }
   ],
   "source": [
    "hist = model.fit(x_train,y_train,batch_size=batch_size,epochs=epochs,verbose=1,validation_data=(x_test,y_test))"
   ]
  },
  {
   "cell_type": "code",
   "execution_count": 58,
   "metadata": {},
   "outputs": [],
   "source": [
    "import matplotlib.pyplot as plt"
   ]
  },
  {
   "cell_type": "code",
   "execution_count": 59,
   "metadata": {},
   "outputs": [],
   "source": [
    "epoch_list  = list(range(1,len(hist.history['acc']) + 1 ))"
   ]
  },
  {
   "cell_type": "code",
   "execution_count": 60,
   "metadata": {},
   "outputs": [
    {
     "data": {
      "image/png": "[encoded data removed]",
      "text/plain": [
       "<Figure size 432x288 with 1 Axes>"
      ]
     },
     "metadata": {
      "needs_background": "light"
     },
     "output_type": "display_data"
    }
   ],
   "source": [
    "plt.plot(epoch_list,hist.history['acc'],epoch_list,hist.history['val_acc'])\n",
    "plt.legend(('Training_Accuracy','Validation_Accuracy'))\n",
    "plt.show()"
   ]
  },
  {
   "cell_type": "code",
   "execution_count": null,
   "metadata": {},
   "outputs": [],
   "source": []
  }
 ],
 "metadata": {
  "kernelspec": {
   "display_name": "Python 3",
   "language": "python",
   "name": "python3"
  },
  "language_info": {
   "codemirror_mode": {
    "name": "ipython",
    "version": 3
   },
   "file_extension": ".py",
   "mimetype": "text/x-python",
   "name": "python",
   "nbconvert_exporter": "python",
   "pygments_lexer": "ipython3",
   "version": "3.7.1"
  }
 },
 "nbformat": 4,
 "nbformat_minor": 2
}
